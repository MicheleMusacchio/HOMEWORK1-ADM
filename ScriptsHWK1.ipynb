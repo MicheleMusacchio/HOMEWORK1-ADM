{
 "cells": [
  {
   "cell_type": "markdown",
   "id": "cb494b16-3379-4643-a266-2fd25dfcf81d",
   "metadata": {
    "tags": []
   },
   "source": [
    "### BASIC DATA TYPES [SUBDOMAIN]"
   ]
  },
  {
   "cell_type": "code",
   "execution_count": 1,
   "id": "9b400bd9-2575-4df3-afe9-1a420b29f558",
   "metadata": {},
   "outputs": [
    {
     "ename": "KeyboardInterrupt",
     "evalue": "Interrupted by user",
     "output_type": "error",
     "traceback": [
      "\u001b[1;31m---------------------------------------------------------------------------\u001b[0m",
      "\u001b[1;31mKeyboardInterrupt\u001b[0m                         Traceback (most recent call last)",
      "Cell \u001b[1;32mIn [1], line 2\u001b[0m\n\u001b[0;32m      1\u001b[0m \u001b[38;5;66;03m#RUNNER-UP SCORE\u001b[39;00m\n\u001b[1;32m----> 2\u001b[0m n \u001b[38;5;241m=\u001b[39m \u001b[38;5;28mint\u001b[39m(\u001b[38;5;28minput\u001b[39m())\n\u001b[0;32m      3\u001b[0m arr \u001b[38;5;241m=\u001b[39m \u001b[38;5;28mmap\u001b[39m(\u001b[38;5;28mint\u001b[39m, \u001b[38;5;28minput\u001b[39m()\u001b[38;5;241m.\u001b[39msplit())\n\u001b[0;32m      4\u001b[0m A\u001b[38;5;241m=\u001b[39m\u001b[38;5;28mlist\u001b[39m(arr)\n",
      "File \u001b[1;32m~\\AppData\\Roaming\\Python\\Python39\\site-packages\\ipykernel\\kernelbase.py:1177\u001b[0m, in \u001b[0;36mKernel.raw_input\u001b[1;34m(self, prompt)\u001b[0m\n\u001b[0;32m   1173\u001b[0m \u001b[38;5;28;01mif\u001b[39;00m \u001b[38;5;129;01mnot\u001b[39;00m \u001b[38;5;28mself\u001b[39m\u001b[38;5;241m.\u001b[39m_allow_stdin:\n\u001b[0;32m   1174\u001b[0m     \u001b[38;5;28;01mraise\u001b[39;00m StdinNotImplementedError(\n\u001b[0;32m   1175\u001b[0m         \u001b[38;5;124m\"\u001b[39m\u001b[38;5;124mraw_input was called, but this frontend does not support input requests.\u001b[39m\u001b[38;5;124m\"\u001b[39m\n\u001b[0;32m   1176\u001b[0m     )\n\u001b[1;32m-> 1177\u001b[0m \u001b[38;5;28;01mreturn\u001b[39;00m \u001b[38;5;28;43mself\u001b[39;49m\u001b[38;5;241;43m.\u001b[39;49m\u001b[43m_input_request\u001b[49m\u001b[43m(\u001b[49m\n\u001b[0;32m   1178\u001b[0m \u001b[43m    \u001b[49m\u001b[38;5;28;43mstr\u001b[39;49m\u001b[43m(\u001b[49m\u001b[43mprompt\u001b[49m\u001b[43m)\u001b[49m\u001b[43m,\u001b[49m\n\u001b[0;32m   1179\u001b[0m \u001b[43m    \u001b[49m\u001b[38;5;28;43mself\u001b[39;49m\u001b[38;5;241;43m.\u001b[39;49m\u001b[43m_parent_ident\u001b[49m\u001b[43m[\u001b[49m\u001b[38;5;124;43m\"\u001b[39;49m\u001b[38;5;124;43mshell\u001b[39;49m\u001b[38;5;124;43m\"\u001b[39;49m\u001b[43m]\u001b[49m\u001b[43m,\u001b[49m\n\u001b[0;32m   1180\u001b[0m \u001b[43m    \u001b[49m\u001b[38;5;28;43mself\u001b[39;49m\u001b[38;5;241;43m.\u001b[39;49m\u001b[43mget_parent\u001b[49m\u001b[43m(\u001b[49m\u001b[38;5;124;43m\"\u001b[39;49m\u001b[38;5;124;43mshell\u001b[39;49m\u001b[38;5;124;43m\"\u001b[39;49m\u001b[43m)\u001b[49m\u001b[43m,\u001b[49m\n\u001b[0;32m   1181\u001b[0m \u001b[43m    \u001b[49m\u001b[43mpassword\u001b[49m\u001b[38;5;241;43m=\u001b[39;49m\u001b[38;5;28;43;01mFalse\u001b[39;49;00m\u001b[43m,\u001b[49m\n\u001b[0;32m   1182\u001b[0m \u001b[43m\u001b[49m\u001b[43m)\u001b[49m\n",
      "File \u001b[1;32m~\\AppData\\Roaming\\Python\\Python39\\site-packages\\ipykernel\\kernelbase.py:1219\u001b[0m, in \u001b[0;36mKernel._input_request\u001b[1;34m(self, prompt, ident, parent, password)\u001b[0m\n\u001b[0;32m   1216\u001b[0m             \u001b[38;5;28;01mbreak\u001b[39;00m\n\u001b[0;32m   1217\u001b[0m \u001b[38;5;28;01mexcept\u001b[39;00m \u001b[38;5;167;01mKeyboardInterrupt\u001b[39;00m:\n\u001b[0;32m   1218\u001b[0m     \u001b[38;5;66;03m# re-raise KeyboardInterrupt, to truncate traceback\u001b[39;00m\n\u001b[1;32m-> 1219\u001b[0m     \u001b[38;5;28;01mraise\u001b[39;00m \u001b[38;5;167;01mKeyboardInterrupt\u001b[39;00m(\u001b[38;5;124m\"\u001b[39m\u001b[38;5;124mInterrupted by user\u001b[39m\u001b[38;5;124m\"\u001b[39m) \u001b[38;5;28;01mfrom\u001b[39;00m \u001b[38;5;28mNone\u001b[39m\n\u001b[0;32m   1220\u001b[0m \u001b[38;5;28;01mexcept\u001b[39;00m \u001b[38;5;167;01mException\u001b[39;00m:\n\u001b[0;32m   1221\u001b[0m     \u001b[38;5;28mself\u001b[39m\u001b[38;5;241m.\u001b[39mlog\u001b[38;5;241m.\u001b[39mwarning(\u001b[38;5;124m\"\u001b[39m\u001b[38;5;124mInvalid Message:\u001b[39m\u001b[38;5;124m\"\u001b[39m, exc_info\u001b[38;5;241m=\u001b[39m\u001b[38;5;28;01mTrue\u001b[39;00m)\n",
      "\u001b[1;31mKeyboardInterrupt\u001b[0m: Interrupted by user"
     ]
    }
   ],
   "source": [
    "#RUNNER-UP SCORE\n",
    "n = int(input())\n",
    "arr = map(int, input().split())\n",
    "A=list(arr)\n",
    "a=min(A)\n",
    "b=max(A)\n",
    "assert len(A)==n and 2<=n and n<=10 and a>=-100 and b<=100\n",
    "for i in range(n):\n",
    "    if A[i]==b:\n",
    "        A[i]=-101\n",
    "assert len(A)!=0\n",
    "print(max(A))"
   ]
  },
  {
   "cell_type": "code",
   "execution_count": null,
   "id": "26c209e4-44c8-44b9-b474-9d1a06145b52",
   "metadata": {},
   "outputs": [],
   "source": [
    "#NESTED LIST \n",
    "dic={}\n",
    "temp=list()\n",
    "for i in range(int(input())):\n",
    "    name=input()\n",
    "    score=float(input())\n",
    "    if score in dic:\n",
    "        dic[score].append(name)\n",
    "    else:\n",
    "        dic[score]=[name]\n",
    "    if score not in temp:\n",
    "        temp.append(score)\n",
    "m=min(temp)\n",
    "temp.remove(m)\n",
    "M=min(temp)\n",
    "dic[M].sort()\n",
    "for i in dic[M]:\n",
    "    print(i)\n",
    "#THIS SOLUTION HAS BEEN INSPIRED BY ANOTHER ONE I SAW ON INTERNET \n",
    "#BECAUSE I DID NOT KNOW HOW TO DO IT\n",
    "\n",
    "    \n",
    "\n",
    "        "
   ]
  },
  {
   "cell_type": "code",
   "execution_count": null,
   "id": "66c0f889-e8e6-477c-84ec-820535a7d5a1",
   "metadata": {},
   "outputs": [],
   "source": [
    "#FIND PERCENTAGE\n",
    "n = int(input())\n",
    "student_marks = {}\n",
    "for _ in range(n):\n",
    "         name, *line = input().split()\n",
    "         scores = list(map(float, line))\n",
    "         student_marks[name] = scores\n",
    "query_name = input()\n",
    "\n",
    "print(\"%.2f\"%(sum(student_marks[query_name])/3))"
   ]
  },
  {
   "cell_type": "code",
   "execution_count": null,
   "id": "e3ffb809-5563-4441-a1b7-338bc88375fa",
   "metadata": {},
   "outputs": [],
   "source": [
    "#LISTS\n",
    "N = int(input())\n",
    "arr=[]\n",
    "for i in range(N):\n",
    "    what,*n=input().split()\n",
    "    what.lower()\n",
    "    if what=='insert':\n",
    "        arr.insert(int(n[0]),int(n[1]))\n",
    "    elif what=='print':\n",
    "        print(arr)\n",
    "    elif what=='remove':\n",
    "        arr.remove(int(n[0]))\n",
    "    elif what=='append':\n",
    "        arr.append(int(n[0]))\n",
    "    elif what=='sort':\n",
    "        arr.sort()\n",
    "    elif what=='pop':\n",
    "        arr.pop()\n",
    "    elif what=='reverse':\n",
    "        arr.reverse()\n",
    "    \n",
    "        \n",
    "        \n",
    "        \n"
   ]
  },
  {
   "cell_type": "code",
   "execution_count": null,
   "id": "47591d8b-ef67-4b52-9076-f50ccefb2d28",
   "metadata": {},
   "outputs": [],
   "source": [
    "#LIST COMPREHENSION\n",
    "x = int(input())\n",
    "y = int(input())\n",
    "z = int(input())\n",
    "n = int(input())\n",
    "perm=[[i,j,k] for i in range(x+1) for j in range(y+1) for k in range(z+1) if i+j+k!=n]  \n",
    "print(perm)"
   ]
  },
  {
   "cell_type": "code",
   "execution_count": null,
   "id": "83867ee8-07a0-494d-93d3-54ad5abe4cff",
   "metadata": {},
   "outputs": [],
   "source": [
    "#TUPLES\n",
    "n=int(input())\n",
    "t=tuple(map(int,input().split()))\n",
    "assert n==len(t)\n",
    "print(hash(t))\n",
    "\n"
   ]
  },
  {
   "cell_type": "markdown",
   "id": "c491a29e-f49b-48b8-97f6-b9e80b29771f",
   "metadata": {},
   "source": [
    "### STRINGS [SUBDOMAIN]"
   ]
  },
  {
   "cell_type": "code",
   "execution_count": null,
   "id": "3b9f13a0-bf75-4232-ba7a-41182b1c0ec6",
   "metadata": {},
   "outputs": [],
   "source": [
    "#SWAP CASE\n",
    "def swap_case(s):\n",
    "    a=[]\n",
    "    if s[0].islower()==True:\n",
    "        a.append(s[0].upper())\n",
    "    else:\n",
    "        a.append(s[0].lower())\n",
    "        \n",
    "    for i in range(1,len(s)):\n",
    "        if s[i].islower()==True:\n",
    "            a.append(s[i].upper())\n",
    "        else:\n",
    "            a.append(s[i].lower())\n",
    "    return ''.join(str(k) for k in a)\n",
    "\n",
    "s=input()\n",
    "print(swap_case(s))\n",
    "            "
   ]
  },
  {
   "cell_type": "code",
   "execution_count": null,
   "id": "26df5e48-2ec1-46bc-a42a-cd735599dddf",
   "metadata": {},
   "outputs": [],
   "source": [
    "#STRING SPLIT AND JOIN \n",
    "def split_and_join(line):\n",
    "    a=line.split(\" \")\n",
    "    return \"-\".join(a)"
   ]
  },
  {
   "cell_type": "code",
   "execution_count": null,
   "id": "c2504133-0e3b-4ee8-b1ed-5b481c85ce79",
   "metadata": {},
   "outputs": [],
   "source": [
    "#WHAT'S YOUR NAME\n",
    "def print_full_name(first, last):\n",
    "    name=' '.join([k for k in [first,last]])\n",
    "    name=name+'!'\n",
    "    return print(' '.join(['Hello',name,'You just delved into python.']))\n"
   ]
  },
  {
   "cell_type": "code",
   "execution_count": null,
   "id": "0c968455-f825-40a0-8cca-b8831bc3a5d7",
   "metadata": {},
   "outputs": [],
   "source": [
    "#PYTHON MUTATIONS\n",
    "def mutate_string(string, position, character):\n",
    "    l = list(string)\n",
    "    l[position] = character\n",
    "    string = ''.join(l)\n",
    "    return string\n",
    "    "
   ]
  },
  {
   "cell_type": "code",
   "execution_count": null,
   "id": "382d6002-614e-4f4a-bf8e-05c835079b1e",
   "metadata": {},
   "outputs": [],
   "source": [
    "#FIND A STRING\n",
    "def count_substring(string, sub_string):\n",
    "    k=0\n",
    "    for i in range(len(string)):\n",
    "        if string[i]==sub_string[0]:\n",
    "            #print('A',i)\n",
    "            h=0\n",
    "            for j in range(len(sub_string)):\n",
    "                if j+i<len(string) and string[j+i]==sub_string[j]:\n",
    "                    h+=1 \n",
    "                if h==len(sub_string):\n",
    "                    k+=1           \n",
    "                   \n",
    "    return k"
   ]
  },
  {
   "cell_type": "code",
   "execution_count": null,
   "id": "7db23dbf-a80c-4984-9fa9-ece2ab3906e2",
   "metadata": {},
   "outputs": [],
   "source": [
    "#STRING VALIDATORS\n",
    "s=input()\n",
    "h=[False,False,False,False,False]\n",
    "for x in s:\n",
    "    if x.isalnum()==True:\n",
    "        h[0]=True\n",
    "    if x.isalpha()==True:\n",
    "        h[1]=True\n",
    "    if x.isdigit()==True:\n",
    "        h[2]=True\n",
    "    if x.islower()==True:\n",
    "        h[3]=True\n",
    "    if x.isupper()==True:\n",
    "        h[4]=True\n",
    "for i in range(5):\n",
    "    print(h[i])"
   ]
  },
  {
   "cell_type": "code",
   "execution_count": null,
   "id": "2c37f145-ac14-4af1-adb9-57a0e828e776",
   "metadata": {},
   "outputs": [],
   "source": [
    "#TEXT ALIGNMENT\n",
    "thickness = int(input()) #This must be an odd number\n",
    "c = 'H'\n",
    "\n",
    "#Top Cone\n",
    "for i in range(thickness):\n",
    "    print((c*i).rjust(thickness-1)+c+(c*i).ljust(thickness-1))\n",
    "\n",
    "#Top Pillars\n",
    "for i in range(thickness+1):\n",
    "    print((c*thickness).center(thickness*2)+(c*thickness).center(thickness*6))\n",
    "\n",
    "#Middle Belt\n",
    "for i in range((thickness+1)//2):\n",
    "    print((c*thickness*5).center(thickness*6))    \n",
    "\n",
    "#Bottom Pillars\n",
    "for i in range(thickness+1):\n",
    "    print((c*thickness).center(thickness*2)+(c*thickness).center(thickness*6))    \n",
    "\n",
    "#Bottom Cone\n",
    "for i in range(thickness):\n",
    "    print(((c*(thickness-i-1)).rjust(thickness)+c+(c*(thickness-i-1)).ljust(thickness)).rjust(thickness*6))\n",
    "    \n"
   ]
  },
  {
   "cell_type": "code",
   "execution_count": null,
   "id": "759c91d3-36fe-430b-b4db-68c0b74a0b63",
   "metadata": {},
   "outputs": [],
   "source": []
  },
  {
   "cell_type": "markdown",
   "id": "e528b6e9-9c97-4770-a043-b8fa7e90b316",
   "metadata": {
    "tags": []
   },
   "source": [
    "### SETS [SUBDOMAIN]"
   ]
  },
  {
   "cell_type": "code",
   "execution_count": null,
   "id": "31843d12-4b91-41b2-bfee-baa6e6c51bc4",
   "metadata": {},
   "outputs": [],
   "source": [
    " #INTRODUCTION TO SET\n",
    "def average(array):\n",
    "    s=set(array)\n",
    "    return sum(s)*(1/len(s))\n"
   ]
  },
  {
   "cell_type": "code",
   "execution_count": null,
   "id": "b23bae04-20fe-424f-b0dd-4c1f63f0debb",
   "metadata": {},
   "outputs": [],
   "source": [
    "#SYMMETRIC DIFFERENCE\n",
    "M=int(input())\n",
    "m=input().split()\n",
    "\n",
    "Mlist=list(map(int,m))\n",
    "N=int(input())\n",
    "n=input().split()\n",
    "\n",
    "Nlist=list(map(int,n))\n",
    "Mset=set(Mlist)\n",
    "Nset=set(Nlist)\n",
    "Common=Mset.intersection(Nset)\n",
    "Simm_diff=(Mset.union(Nset)).difference(Common)\n",
    "W=sorted(Simm_diff)\n",
    "for i in range(len(W)):\n",
    "    print(W[i])\n"
   ]
  },
  {
   "cell_type": "code",
   "execution_count": null,
   "id": "c5e5dd46-19a9-4e4b-9938-cb36a3f22af0",
   "metadata": {},
   "outputs": [],
   "source": [
    "#SET.ADD\n",
    "N=int(input())\n",
    "Countries=set()\n",
    "for i in range(N):\n",
    "    country=input()\n",
    "    if country not in Countries:\n",
    "        Countries.add(country)\n",
    "print(len(Countries))"
   ]
  },
  {
   "cell_type": "code",
   "execution_count": null,
   "id": "6c75ce53-1a0e-4e18-98eb-e20e9342e170",
   "metadata": {},
   "outputs": [],
   "source": [
    "#SET.DISCARD,REMOVE,POP\n",
    "n = int(input())\n",
    "s = set(map(int, input().split()))\n",
    "N=int(input())\n",
    "for i in range(N):\n",
    "    command=input().rsplit()\n",
    "    if command[0]=='pop':\n",
    "        s.pop()\n",
    "    if command[0]=='remove':\n",
    "        s.remove(int(command[1]))\n",
    "    if command[0]=='discard':\n",
    "        s.discard(int(command[1]))\n",
    "print(sum(s))"
   ]
  },
  {
   "cell_type": "code",
   "execution_count": null,
   "id": "14a0936e-383e-45c6-b1df-5f7a2847f53e",
   "metadata": {},
   "outputs": [],
   "source": [
    "#SET.UNION\n",
    "n=int(input())\n",
    "N=set(map(int,input().split()))\n",
    "b=int(input())\n",
    "B=set(map(int,input().split()))\n",
    "print(len(N.union(B)))"
   ]
  },
  {
   "cell_type": "code",
   "execution_count": null,
   "id": "e75d9d49-6c39-4d65-94c2-79e87a626a13",
   "metadata": {},
   "outputs": [],
   "source": [
    "#SET.INTERSECTION\n",
    "n=int(input())\n",
    "N=set(map(int,input().split()))\n",
    "b=int(input())\n",
    "B=set(map(int,input().split()))\n",
    "print(len(N.intersection(B)))"
   ]
  },
  {
   "cell_type": "code",
   "execution_count": null,
   "id": "e2a54eb5-5cdd-4fe2-897b-253f27613e7f",
   "metadata": {},
   "outputs": [],
   "source": [
    "#SET.DIFFERENCE\n",
    "n=int(input())\n",
    "N=set(map(int,input().split()))\n",
    "b=int(input())\n",
    "B=set(map(int,input().split()))\n",
    "print(len(N.difference(B)))"
   ]
  },
  {
   "cell_type": "code",
   "execution_count": null,
   "id": "6053abdb-0cd0-4307-be20-2129fdb03519",
   "metadata": {},
   "outputs": [],
   "source": [
    "#SET.SYMMETRIC_DIFFERENCE\n",
    "n=int(input())\n",
    "N=set(map(int,input().split()))\n",
    "b=int(input())\n",
    "B=set(map(int,input().split()))\n",
    "print(len(N.symmetric_difference(B)))"
   ]
  },
  {
   "cell_type": "code",
   "execution_count": null,
   "id": "cbcd05dd-560c-4b12-bd76-0f2c703a0126",
   "metadata": {},
   "outputs": [],
   "source": [
    "#SET.MUTATIONS\n",
    "n=int(input())\n",
    "A=set(map(int,input().split()))\n",
    "N=int(input())\n",
    "for i in range(N):\n",
    "    command,length=input().rsplit()\n",
    "    B=set(map(int,input().split()))\n",
    "    if command=='difference_update':\n",
    "        A.difference_update(B)\n",
    "    if command=='symmetric_difference_update':\n",
    "        A.symmetric_difference_update(B)\n",
    "    if command=='intersection_update':\n",
    "        A.intersection_update(B)\n",
    "    if command=='update':\n",
    "        A.update(B)\n",
    "print(sum(A))\n",
    "            \n"
   ]
  },
  {
   "cell_type": "markdown",
   "id": "8ce50c1b-7502-4182-8246-0f3402a229ff",
   "metadata": {
    "tags": []
   },
   "source": [
    "### NUMPY [SUBDOMAIN]\n"
   ]
  },
  {
   "cell_type": "code",
   "execution_count": null,
   "id": "6f512d0c-eaea-4e82-ac99-d8ae8c13d2d7",
   "metadata": {},
   "outputs": [],
   "source": [
    "#ARRAYS\n",
    "import numpy\n",
    "\n",
    "def arrays(arr):\n",
    "    a=numpy.array(arr,float)\n",
    "    return a[::-1]\n",
    " \n",
    "arr = input().strip().split(' ')\n",
    "result = arrays(arr)\n",
    "print(result)"
   ]
  },
  {
   "cell_type": "code",
   "execution_count": null,
   "id": "3d64b1b9-1d76-4fcf-9ef8-6de609d55406",
   "metadata": {},
   "outputs": [],
   "source": [
    "#SHAPE AND RESHAPE\n",
    "import numpy\n",
    "Input_list=numpy.array(list(map(int, input().split())))\n",
    "assert len(Input_list)==9\n",
    "Input_list.shape=(3,3)\n",
    "print(Input_list)"
   ]
  },
  {
   "cell_type": "code",
   "execution_count": null,
   "id": "3083e63f-669f-46e0-b969-929770f22992",
   "metadata": {},
   "outputs": [],
   "source": [
    "#TRANSPOSE AND FLATTEN\n",
    "import numpy\n",
    "Index=list(map(int, input().split()))\n",
    "Matrix=numpy.zeros((Index[0],Index[1]),int)\n",
    "for i in range(Index[0]):\n",
    "    Matrix[i,::]=numpy.array(list(map(int, input().split())))\n",
    "print(Matrix.transpose())\n",
    "print(Matrix.flatten())"
   ]
  },
  {
   "cell_type": "code",
   "execution_count": null,
   "id": "b72d08b4-d828-4799-a633-020808088bac",
   "metadata": {},
   "outputs": [],
   "source": [
    "#CONCATENATE\n",
    "import numpy\n",
    "Index_NMP=list(map(int, input().split()))\n",
    "Matrix_NP=numpy.zeros((Index_NMP[0],Index_NMP[2]),int)\n",
    "Matrix_MP=numpy.zeros((Index_NMP[1],Index_NMP[2]),int)\n",
    "for i in range(Index_NMP[0]):\n",
    "    Matrix_NP[i,::]=numpy.array(list(map(int, input().split())))\n",
    "for i in range(Index_NMP[1]):\n",
    "    Matrix_MP[i,::]=numpy.array(list(map(int, input().split())))\n",
    "Matrix=numpy.concatenate((Matrix_NP,Matrix_MP),axis=0)\n",
    "print(Matrix)"
   ]
  },
  {
   "cell_type": "code",
   "execution_count": null,
   "id": "9452f81a-bb0e-48d9-a5a2-66b5296a772f",
   "metadata": {},
   "outputs": [],
   "source": [
    "#ZEROS AND ONES\n",
    "import numpy\n",
    "Index=tuple(map(int, input().split()))\n",
    "print(numpy.zeros(Index,int))\n",
    "print(numpy.ones(Index,int))"
   ]
  },
  {
   "cell_type": "code",
   "execution_count": null,
   "id": "60713082-6dfa-4ce2-bf30-41e0afab182a",
   "metadata": {},
   "outputs": [],
   "source": [
    "#EYE AND IDENTITY\n",
    "import numpy\n",
    "numpy.set_printoptions(legacy='1.13')\n",
    "Index=list(map(int,input().split()))\n",
    "print(numpy.eye(Index[0],Index[1]))"
   ]
  },
  {
   "cell_type": "code",
   "execution_count": null,
   "id": "cabb5791-0812-43b9-ae3c-29825e46e79f",
   "metadata": {},
   "outputs": [],
   "source": [
    "#ARRAY MATHEMATICS\n",
    "import numpy\n",
    "Index=list(map(int, input().split()))\n",
    "A=numpy.zeros((Index[0],Index[1]),int)\n",
    "B=numpy.zeros((Index[0],Index[1]),int)\n",
    "for i in range(Index[0]):\n",
    "    A[i,::]=numpy.array(list(map(int, input().split())))\n",
    "for i in range(Index[0]):\n",
    "    B[i,::]=numpy.array(list(map(int, input().split())))\n",
    "    \n",
    "print(numpy.add(A,B))\n",
    "print(numpy.subtract(A,B))\n",
    "print(numpy.multiply(A,B))\n",
    "print(numpy.floor_divide(A,B))\n",
    "print(numpy.mod(A,B))\n",
    "print(numpy.power(A,B))\n",
    "\n"
   ]
  },
  {
   "cell_type": "code",
   "execution_count": null,
   "id": "9c0dc0ee-809d-4366-b4bc-3849be6cd847",
   "metadata": {},
   "outputs": [],
   "source": [
    "#FLOOR,CEIL AND RINT\n",
    "import numpy\n",
    "numpy.set_printoptions(legacy='1.13')\n",
    "array=list(map(float, input().split()))\n",
    "print(numpy.floor(array))\n",
    "print(numpy.ceil(array))\n",
    "print(numpy.rint(array))\n"
   ]
  },
  {
   "cell_type": "code",
   "execution_count": null,
   "id": "fe68b298-a831-44c8-8959-3a452d524ac6",
   "metadata": {},
   "outputs": [],
   "source": [
    "#SUM AND PROD\n",
    "import numpy\n",
    "Index=list(map(int, input().split()))\n",
    "Matrix=numpy.zeros((Index[0],Index[1]),int)\n",
    "for i in range(Index[0]):\n",
    "    Matrix[i,::]=numpy.array(list(map(int, input().split())))\n",
    "Sum=numpy.sum(Matrix, axis=0)\n",
    "Prod=numpy.prod(Sum)\n",
    "print(Prod)"
   ]
  },
  {
   "cell_type": "code",
   "execution_count": null,
   "id": "3ad1aad7-c397-4103-bd8b-8d6d4b3d1887",
   "metadata": {},
   "outputs": [],
   "source": [
    "#MIN AND MAX\n",
    "import numpy\n",
    "Index=list(map(int, input().split()))\n",
    "Matrix=numpy.zeros((Index[0],Index[1]),int)\n",
    "for i in range(Index[0]):\n",
    "    Matrix[i,::]=numpy.array(list(map(int, input().split())))\n",
    "m=numpy.min(Matrix, axis=1)\n",
    "M=numpy.max(m)\n",
    "print(M)"
   ]
  },
  {
   "cell_type": "code",
   "execution_count": null,
   "id": "404577a2-44d7-4531-b6e5-0f006688c7ba",
   "metadata": {},
   "outputs": [],
   "source": [
    "#MEAN, VAR AND STD\n",
    "import numpy\n",
    "Index=list(map(int, input().split()))\n",
    "Matrix=numpy.zeros((Index[0],Index[1]),int)\n",
    "for i in range(Index[0]):\n",
    "    Matrix[i,::]=numpy.array(list(map(int, input().split())))\n",
    "mean=numpy.mean(Matrix, axis=1)\n",
    "var=numpy.var(Matrix, axis=0)\n",
    "std=numpy.std(Matrix)\n",
    "print(mean)\n",
    "print(var)\n",
    "print(round(std,11))"
   ]
  },
  {
   "cell_type": "code",
   "execution_count": null,
   "id": "ce088f5b-f489-43fe-b0b8-d2918ed1b373",
   "metadata": {},
   "outputs": [],
   "source": [
    "#DOT\n",
    "import numpy\n",
    "N=int(input())\n",
    "A=numpy.zeros((N,N),int)\n",
    "B=numpy.zeros((N,N),int)\n",
    "for i in range(N):\n",
    "    A[i,::]=numpy.array(list(map(int, input().split())))\n",
    "for i in range(N):\n",
    "    B[i,::]=numpy.array(list(map(int, input().split())))\n",
    "AB=numpy.dot(A,B)\n",
    "print(AB)"
   ]
  },
  {
   "cell_type": "code",
   "execution_count": null,
   "id": "cf318987-f56f-4fc7-8443-02faca36dc78",
   "metadata": {},
   "outputs": [],
   "source": [
    "#INNER AND OUTER\n",
    "import numpy\n",
    "A=list(map(int,input().split()))\n",
    "B=list(map(int,input().split()))\n",
    "print(numpy.inner(A,B))\n",
    "print(numpy.outer(A,B))"
   ]
  },
  {
   "cell_type": "code",
   "execution_count": null,
   "id": "30a24295-d6e5-406a-8972-c732a1b726b5",
   "metadata": {},
   "outputs": [],
   "source": [
    "#POLYNOMIALS\n",
    "import numpy\n",
    "coeff=list(map(float, input().split()))\n",
    "x=float(input())\n",
    "print(numpy.polyval(coeff,x))\n"
   ]
  },
  {
   "cell_type": "code",
   "execution_count": null,
   "id": "6289cfa8-db77-469a-8af4-827ee6192bbe",
   "metadata": {},
   "outputs": [],
   "source": [
    "#LINEAR ALGEBRA\n",
    "import numpy\n",
    "N=int(input())\n",
    "A=numpy.zeros((N,N),float)\n",
    "for i in range(N):\n",
    "    A[i,::]=numpy.array(list(map(float, input().split())))\n",
    "print(round(numpy.linalg.det(A),2))"
   ]
  },
  {
   "cell_type": "markdown",
   "id": "dd57fd9b-0580-4325-af23-4291d298c085",
   "metadata": {},
   "source": [
    "### COLLECTIONS [SUBDOMAIN]"
   ]
  },
  {
   "cell_type": "code",
   "execution_count": null,
   "id": "ceb5e688-dd0e-4441-a60d-6c6199230f32",
   "metadata": {},
   "outputs": [],
   "source": [
    "#COLLECTION COUNTER\n",
    "from collections import Counter\n",
    "\n",
    "X=int(input())\n",
    "Available_Shoe_sizes=list(map(int,input().split()))\n",
    "A=Counter(Available_Shoe_sizes)\n",
    "assert len(Available_Shoe_sizes)==X\n",
    "N=int(input())\n",
    "Revenue=0\n",
    "for i in range(N):\n",
    "    customer=list(map(int,input().split())) #[size,prize]\n",
    "    if customer[0] in A.keys() and A[customer[0]]>=1:\n",
    "                A[customer[0]]-=1\n",
    "                Revenue+=customer[1]\n",
    "                                \n",
    "print(Revenue) \n",
    "\n"
   ]
  },
  {
   "cell_type": "code",
   "execution_count": null,
   "id": "853d6299-0034-45ab-9f75-05da545ecc6f",
   "metadata": {},
   "outputs": [],
   "source": [
    "#DEFAULTDICT\n",
    "from collections import defaultdict\n",
    "\n",
    "A = defaultdict(list)\n",
    "\n",
    "n, m =list(map(int,input().split()))\n",
    "\n",
    "for i in range(1,n+1):\n",
    "    A[input()].append(i)\n",
    "    \n",
    "for i in range(m):\n",
    "    b = input()\n",
    "    \n",
    "    if b in A.keys():\n",
    "        print(*A[b])\n",
    "    else:\n",
    "        print(-1)\n",
    "\n"
   ]
  },
  {
   "cell_type": "code",
   "execution_count": null,
   "id": "a0e1c198-985d-4d11-b629-7af411019640",
   "metadata": {},
   "outputs": [],
   "source": [
    "#COLLECTIONS.NAMEDTUPLE\n",
    "from collections import namedtuple\n",
    "N=int(input())\n",
    "Col=namedtuple('Student',input().rsplit())\n",
    "print(sum([int(Col(*input().rsplit()).MARKS) for i in range(N)])/N)\n",
    "\n"
   ]
  },
  {
   "cell_type": "code",
   "execution_count": null,
   "id": "b968ab91-646c-4706-9af7-7d01cf5f8cbd",
   "metadata": {},
   "outputs": [],
   "source": []
  }
 ],
 "metadata": {
  "kernelspec": {
   "display_name": "Python 3 (ipykernel)",
   "language": "python",
   "name": "python3"
  },
  "language_info": {
   "codemirror_mode": {
    "name": "ipython",
    "version": 3
   },
   "file_extension": ".py",
   "mimetype": "text/x-python",
   "name": "python",
   "nbconvert_exporter": "python",
   "pygments_lexer": "ipython3",
   "version": "3.9.12"
  }
 },
 "nbformat": 4,
 "nbformat_minor": 5
}
